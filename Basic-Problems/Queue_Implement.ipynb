{
 "cells": [
  {
   "cell_type": "markdown",
   "metadata": {},
   "source": [
    "## We can implement using three ways\n",
    "### list\n",
    "### collections.deque\n",
    "### queue.Queue"
   ]
  },
  {
   "cell_type": "code",
   "execution_count": 2,
   "metadata": {},
   "outputs": [
    {
     "name": "stdout",
     "output_type": "stream",
     "text": [
      "Initial Queue is:\n",
      " [1, 2, 3, 4]\n",
      "1\n",
      "2\n",
      "3\n",
      "After Removing elements:\n",
      " [4]\n"
     ]
    }
   ],
   "source": [
    "# implementing Queue using List\n",
    "q=[]\n",
    "q.append(1)\n",
    "q.append(2)\n",
    "q.append(3)\n",
    "q.append(4)\n",
    "print(\"Initial Queue is:\\n\",q)\n",
    "print(q.pop(0))\n",
    "print(q.pop(0))\n",
    "print(q.pop(0))\n",
    "print(\"After Removing elements:\\n\",q)"
   ]
  },
  {
   "cell_type": "code",
   "execution_count": 3,
   "metadata": {},
   "outputs": [],
   "source": [
    "# Implement Queue using List(Functions)\n",
    "q=[]\n",
    "def Enqueue():\n",
    "    if len(q)==size: # check wether the stack is full or not\n",
    "        print(\"Queue is Full!!!!\")\n",
    "    else:\n",
    "        element=input(\"Enter the element:\")\n",
    "        q.append(element)\n",
    "        print(element,\"is added to the Queue!\")\n",
    "def dequeue():\n",
    "    if not q:# or if len(stack)==0\n",
    "        print(\"Queue is Empty!!!\")\n",
    "    else:\n",
    "        e=q.pop(0)\n",
    "        print(\"element removed!!:\",e)\n",
    "def display():\n",
    "    print(q)\n",
    "    size=int(input(\"Enter the size of Queue:\"))\n",
    "    while True:\n",
    "        print(\"Select the Operation:1.Add 2.Delete 3. Display 4. Quit\")\n",
    "        choice=int(input())\n",
    "        if choice==1:\n",
    "            Enqueue()\n",
    "        elif choice==2:\n",
    "            dequeue()\n",
    "        elif choice==3:\n",
    "            display()\n",
    "        elif choice==4:\n",
    "            break\n",
    "        else:\n",
    "            print(\"Invalid Option!!!\")"
   ]
  },
  {
   "cell_type": "code",
   "execution_count": 4,
   "metadata": {},
   "outputs": [
    {
     "name": "stdout",
     "output_type": "stream",
     "text": [
      "Initial Size Before Insertion: 0\n",
      "After Insertion: 4\n",
      "Queue is Full or Not: True\n",
      "Size of Queue: 4\n",
      "Removing Elements:\n",
      "A\n",
      "AA\n",
      "AAA\n",
      "Empty or Not?? False\n",
      "AAAA\n",
      "Empty or Not?? True\n",
      "Size of Queue: 0\n"
     ]
    }
   ],
   "source": [
    "# implment queue using queue module\n",
    "from queue import Queue\n",
    "q=Queue(maxsize=4)\n",
    "print(\"Initial Size Before Insertion:\",q.qsize())\n",
    "q.put('A')\n",
    "q.put('AA')\n",
    "q.put('AAA')\n",
    "q.put('AAAA')\n",
    "print(\"After Insertion:\",q.qsize())\n",
    "print(\"Queue is Full or Not:\",q.full())\n",
    "print(\"Size of Queue:\",q.qsize())\n",
    "print(\"Removing Elements:\")\n",
    "print(q.get())\n",
    "print(q.get())\n",
    "print(q.get())\n",
    "print(\"Empty or Not??\",q.empty())\n",
    "print(q.get())\n",
    "print(\"Empty or Not??\",q.empty())\n",
    "print(\"Size of Queue:\",q.qsize())"
   ]
  },
  {
   "cell_type": "markdown",
   "metadata": {},
   "source": [
    "## Queue Module"
   ]
  },
  {
   "cell_type": "code",
   "execution_count": 5,
   "metadata": {},
   "outputs": [
    {
     "name": "stdout",
     "output_type": "stream",
     "text": [
      "Initial Queue is: deque([1, 2, 3, 4])\n",
      "1\n",
      "2\n",
      "After Removing elements: deque([3, 4])\n"
     ]
    }
   ],
   "source": [
    "from collections import deque\n",
    "q=deque()\n",
    "q.append(1)\n",
    "q.append(2)\n",
    "q.append(3)\n",
    "q.append(4)\n",
    "print(\"Initial Queue is:\",q)\n",
    "print(q.popleft())\n",
    "print(q.popleft())\n",
    "print(\"After Removing elements:\",q)"
   ]
  },
  {
   "cell_type": "code",
   "execution_count": 7,
   "metadata": {},
   "outputs": [
    {
     "name": "stdout",
     "output_type": "stream",
     "text": [
      "4\n"
     ]
    }
   ],
   "source": [
    "print(q.pop())"
   ]
  },
  {
   "cell_type": "markdown",
   "metadata": {},
   "source": [
    "## Happy Coding\n",
    "# A R"
   ]
  }
 ],
 "metadata": {
  "kernelspec": {
   "display_name": "Python 3",
   "language": "python",
   "name": "python3"
  },
  "language_info": {
   "codemirror_mode": {
    "name": "ipython",
    "version": 3
   },
   "file_extension": ".py",
   "mimetype": "text/x-python",
   "name": "python",
   "nbconvert_exporter": "python",
   "pygments_lexer": "ipython3",
   "version": "3.6.11"
  }
 },
 "nbformat": 4,
 "nbformat_minor": 4
}

{
 "cells": [
  {
   "cell_type": "markdown",
   "metadata": {},
   "source": [
    "[4,10,8,6,7]\n",
    "[4, 10,8,6,7]\n",
    "[4,8,10,6,7]\n",
    ".\n",
    ".\n",
    ".\n",
    "[4,8,6,7,10].\n",
    "\n",
    "\n",
    "\n",
    "[4,8,6,7,10]\n",
    "[4,6,8,7,10]\n"
   ]
  },
  {
   "cell_type": "code",
   "execution_count": 1,
   "metadata": {},
   "outputs": [
    {
     "data": {
      "text/plain": [
       "[8, 12, 14, 29, 45, 58, 62, 74, 87]"
      ]
     },
     "execution_count": 1,
     "metadata": {},
     "output_type": "execute_result"
    }
   ],
   "source": [
    "arr = [14, 87, 45, 12, 8, 74, 62, 58, 29]\n",
    "for i in range(len(arr)):\n",
    "    for j in range(len(arr)-1-i):\n",
    "        if arr[j] > arr[j+1]:\n",
    "            temp = arr[j]\n",
    "            arr[j] = arr[j+1]\n",
    "            arr[j+1] = temp\n",
    "            # arr[j], arr[j+1] = arr[j+1],arr[j]\n",
    "arr"
   ]
  },
  {
   "cell_type": "code",
   "execution_count": 2,
   "metadata": {},
   "outputs": [
    {
     "data": {
      "text/plain": [
       "[8, 12, 14, 29, 45, 58, 62, 74, 87]"
      ]
     },
     "execution_count": 2,
     "metadata": {},
     "output_type": "execute_result"
    }
   ],
   "source": [
    "arr = [14, 87, 45, 12, 8, 74, 62, 58, 29]\n",
    "for i in range(len(arr)):\n",
    "    for j in range(len(arr)-1-i):\n",
    "        if arr[j] > arr[j+1]:\n",
    "            arr[j], arr[j+1] = arr[j+1],arr[j]\n",
    "arr"
   ]
  },
  {
   "cell_type": "code",
   "execution_count": 3,
   "metadata": {},
   "outputs": [
    {
     "name": "stdout",
     "output_type": "stream",
     "text": [
      "8 12 14 29 45 58 62 74 87 "
     ]
    }
   ],
   "source": [
    "def sortArr(arr):\n",
    "    for i in range(len(arr)):\n",
    "        for j in range(len(arr)-1-i):\n",
    "            if arr[j] > arr[j+1]:\n",
    "                arr[j], arr[j+1] = arr[j+1],arr[j]\n",
    "    for item in arr:\n",
    "        print(item, end=' ')\n",
    "sortArr(arr)"
   ]
  },
  {
   "cell_type": "code",
   "execution_count": 4,
   "metadata": {},
   "outputs": [
    {
     "name": "stdout",
     "output_type": "stream",
     "text": [
      "3 4 9 12 47 "
     ]
    }
   ],
   "source": [
    "arr1 = [47, 12, 9, 4, 3]\n",
    "sortArr(arr1)"
   ]
  },
  {
   "cell_type": "code",
   "execution_count": 6,
   "metadata": {},
   "outputs": [
    {
     "name": "stdout",
     "output_type": "stream",
     "text": [
      "How many numbers you want to insert3\n",
      "7\n",
      "6\n",
      "8\n",
      "6 7 8 "
     ]
    }
   ],
   "source": [
    "n = int(input(\"How many numbers you want to insert\"))\n",
    "arr2=[]\n",
    "for i in range(n):\n",
    "    val = int(input())\n",
    "    arr2.append(val)\n",
    "sortArr(arr2)"
   ]
  },
  {
   "cell_type": "code",
   "execution_count": 7,
   "metadata": {},
   "outputs": [
    {
     "name": "stdout",
     "output_type": "stream",
     "text": [
      "How many numbers you want to insert5\n",
      "7\n",
      "9\n",
      "4\n",
      "6\n",
      "2\n",
      "2 4 6 7 9 "
     ]
    }
   ],
   "source": [
    "n = int(input(\"How many numbers you want to insert\"))\n",
    "arr3=[]\n",
    "for i in range(n):\n",
    "    arr3.append(int(input()))\n",
    "sortArr(arr3)"
   ]
  },
  {
   "cell_type": "markdown",
   "metadata": {},
   "source": [
    "## Happy Coding\n",
    "# A R"
   ]
  }
 ],
 "metadata": {
  "kernelspec": {
   "display_name": "Python 3",
   "language": "python",
   "name": "python3"
  },
  "language_info": {
   "codemirror_mode": {
    "name": "ipython",
    "version": 3
   },
   "file_extension": ".py",
   "mimetype": "text/x-python",
   "name": "python",
   "nbconvert_exporter": "python",
   "pygments_lexer": "ipython3",
   "version": "3.6.11"
  }
 },
 "nbformat": 4,
 "nbformat_minor": 4
}

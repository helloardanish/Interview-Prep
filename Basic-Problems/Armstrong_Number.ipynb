{
 "cells": [
  {
   "cell_type": "markdown",
   "metadata": {},
   "source": [
    "# Check Armstrong Number"
   ]
  },
  {
   "cell_type": "code",
   "execution_count": 8,
   "metadata": {},
   "outputs": [
    {
     "name": "stdout",
     "output_type": "stream",
     "text": [
      "Enter a number 153\n",
      "It is an armstrong number.\n"
     ]
    }
   ],
   "source": [
    "def checkArmstrong(num):\n",
    "    org_num = num\n",
    "    len_num = len(str(num))\n",
    "    sum = 0\n",
    "    while(num > 0):\n",
    "        dig = num%10\n",
    "        sum += dig ** len_num\n",
    "        num = int(num/10)\n",
    "    \n",
    "    return sum==org_num\n",
    "\n",
    "n = int(input(\"Enter a number \"))\n",
    "if checkArmstrong(n):\n",
    "    print(\"It is an armstrong number.\")\n",
    "else:\n",
    "    print(\"It is not a armstrong number\")"
   ]
  },
  {
   "cell_type": "code",
   "execution_count": 9,
   "metadata": {},
   "outputs": [
    {
     "data": {
      "text/plain": [
       "False"
      ]
     },
     "execution_count": 9,
     "metadata": {},
     "output_type": "execute_result"
    }
   ],
   "source": [
    "checkArmstrong(127)"
   ]
  },
  {
   "cell_type": "markdown",
   "metadata": {},
   "source": [
    "# Let's print inside the function too"
   ]
  },
  {
   "cell_type": "code",
   "execution_count": 12,
   "metadata": {},
   "outputs": [],
   "source": [
    "def checkArmstrong2(num):\n",
    "    org_num = num\n",
    "    len_num = len(str(num))\n",
    "    sum = 0\n",
    "    while(num > 0):\n",
    "        dig = num%10\n",
    "        sum += dig ** len_num\n",
    "        num = int(num/10)\n",
    "    \n",
    "    if sum==org_num:\n",
    "        print(\"It is an armstrong number.\")\n",
    "    else:\n",
    "        print(\"It is not a armstrong number\")"
   ]
  },
  {
   "cell_type": "code",
   "execution_count": 13,
   "metadata": {},
   "outputs": [
    {
     "name": "stdout",
     "output_type": "stream",
     "text": [
      "It is not a armstrong number\n"
     ]
    }
   ],
   "source": [
    "checkArmstrong2(127)"
   ]
  },
  {
   "cell_type": "code",
   "execution_count": 14,
   "metadata": {},
   "outputs": [
    {
     "name": "stdout",
     "output_type": "stream",
     "text": [
      "It is an armstrong number.\n"
     ]
    }
   ],
   "source": [
    "checkArmstrong2(153)"
   ]
  },
  {
   "cell_type": "code",
   "execution_count": 15,
   "metadata": {},
   "outputs": [
    {
     "name": "stdout",
     "output_type": "stream",
     "text": [
      "It is an armstrong number.\n"
     ]
    }
   ],
   "source": [
    "checkArmstrong2(407)"
   ]
  },
  {
   "cell_type": "code",
   "execution_count": 16,
   "metadata": {},
   "outputs": [
    {
     "name": "stdout",
     "output_type": "stream",
     "text": [
      "It is not a armstrong number\n"
     ]
    }
   ],
   "source": [
    "checkArmstrong2(4687)"
   ]
  },
  {
   "cell_type": "code",
   "execution_count": 17,
   "metadata": {},
   "outputs": [
    {
     "name": "stdout",
     "output_type": "stream",
     "text": [
      "It is an armstrong number.\n"
     ]
    }
   ],
   "source": [
    "checkArmstrong2(1634)"
   ]
  },
  {
   "cell_type": "code",
   "execution_count": 18,
   "metadata": {},
   "outputs": [
    {
     "name": "stdout",
     "output_type": "stream",
     "text": [
      "It is an armstrong number.\n"
     ]
    }
   ],
   "source": [
    "checkArmstrong2(8208)"
   ]
  },
  {
   "cell_type": "code",
   "execution_count": 19,
   "metadata": {},
   "outputs": [
    {
     "name": "stdout",
     "output_type": "stream",
     "text": [
      "It is an armstrong number.\n"
     ]
    }
   ],
   "source": [
    "checkArmstrong2(54748)"
   ]
  },
  {
   "cell_type": "code",
   "execution_count": 20,
   "metadata": {},
   "outputs": [
    {
     "name": "stdout",
     "output_type": "stream",
     "text": [
      "It is an armstrong number.\n"
     ]
    }
   ],
   "source": [
    "checkArmstrong2(1741725)"
   ]
  },
  {
   "cell_type": "code",
   "execution_count": 21,
   "metadata": {},
   "outputs": [
    {
     "name": "stdout",
     "output_type": "stream",
     "text": [
      "It is an armstrong number.\n"
     ]
    }
   ],
   "source": [
    "checkArmstrong2(9926315)"
   ]
  },
  {
   "cell_type": "markdown",
   "metadata": {},
   "source": [
    "## Thank you"
   ]
  }
 ],
 "metadata": {
  "kernelspec": {
   "display_name": "Python 3",
   "language": "python",
   "name": "python3"
  },
  "language_info": {
   "codemirror_mode": {
    "name": "ipython",
    "version": 3
   },
   "file_extension": ".py",
   "mimetype": "text/x-python",
   "name": "python",
   "nbconvert_exporter": "python",
   "pygments_lexer": "ipython3",
   "version": "3.6.11"
  }
 },
 "nbformat": 4,
 "nbformat_minor": 4
}

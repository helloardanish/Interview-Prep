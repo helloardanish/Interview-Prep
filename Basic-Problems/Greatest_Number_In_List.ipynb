{
 "cells": [
  {
   "cell_type": "markdown",
   "metadata": {},
   "source": [
    "## Find largest number in a group/list of number"
   ]
  },
  {
   "cell_type": "code",
   "execution_count": 1,
   "metadata": {},
   "outputs": [
    {
     "name": "stdout",
     "output_type": "stream",
     "text": [
      "12 54 11 85 6 45 21 54 77 88 45 99 16\n",
      "99\n"
     ]
    }
   ],
   "source": [
    "num_list = list(map(int, input().split()))\n",
    "num_list.sort()\n",
    "print(num_list[-1])"
   ]
  },
  {
   "cell_type": "code",
   "execution_count": 2,
   "metadata": {},
   "outputs": [
    {
     "data": {
      "text/plain": [
       "99"
      ]
     },
     "execution_count": 2,
     "metadata": {},
     "output_type": "execute_result"
    }
   ],
   "source": [
    "def largestNoList(lst):\n",
    "    lst.sort()\n",
    "    return lst[-1]\n",
    "largestNoList(num_list)"
   ]
  },
  {
   "cell_type": "code",
   "execution_count": 3,
   "metadata": {},
   "outputs": [
    {
     "data": {
      "text/plain": [
       "84"
      ]
     },
     "execution_count": 3,
     "metadata": {},
     "output_type": "execute_result"
    }
   ],
   "source": [
    "def lrgnumlst(lst):\n",
    "    largest = 0\n",
    "    for num in lst:\n",
    "        if num>largest:\n",
    "            largest=num\n",
    "    return largest\n",
    "lrgnumlst([1,45,3, 84, 45])"
   ]
  },
  {
   "cell_type": "code",
   "execution_count": 5,
   "metadata": {},
   "outputs": [
    {
     "data": {
      "text/plain": [
       "84"
      ]
     },
     "execution_count": 5,
     "metadata": {},
     "output_type": "execute_result"
    }
   ],
   "source": [
    "def lrgnumlst2(lst):\n",
    "    largest = 0\n",
    "    for i in range(len(lst)):\n",
    "        if lst[i]>largest:\n",
    "            largest=lst[i]\n",
    "    return largest\n",
    "lrgnumlst2([1,45,3, 84, 45])"
   ]
  },
  {
   "cell_type": "code",
   "execution_count": 6,
   "metadata": {},
   "outputs": [
    {
     "data": {
      "text/plain": [
       "104"
      ]
     },
     "execution_count": 6,
     "metadata": {},
     "output_type": "execute_result"
    }
   ],
   "source": [
    "lrgnumlst2([1,45,3, 84, 45, 104])"
   ]
  },
  {
   "cell_type": "markdown",
   "metadata": {},
   "source": [
    "Take input one by one"
   ]
  },
  {
   "cell_type": "code",
   "execution_count": 9,
   "metadata": {},
   "outputs": [
    {
     "name": "stdout",
     "output_type": "stream",
     "text": [
      "Enter the size of array5\n",
      "1\n",
      "47\n",
      "85\n",
      "41\n",
      "63\n"
     ]
    },
    {
     "data": {
      "text/plain": [
       "85"
      ]
     },
     "execution_count": 9,
     "metadata": {},
     "output_type": "execute_result"
    }
   ],
   "source": [
    "num_list = []\n",
    "no_of_element = int(input(\"Enter the size of array\"))\n",
    "for i in range(no_of_element):\n",
    "    num_list.append(int(input()))\n",
    "lrgnumlst2(num_list)"
   ]
  },
  {
   "cell_type": "markdown",
   "metadata": {},
   "source": [
    "## Happy Coding\n",
    "# A R"
   ]
  }
 ],
 "metadata": {
  "kernelspec": {
   "display_name": "Python 3",
   "language": "python",
   "name": "python3"
  },
  "language_info": {
   "codemirror_mode": {
    "name": "ipython",
    "version": 3
   },
   "file_extension": ".py",
   "mimetype": "text/x-python",
   "name": "python",
   "nbconvert_exporter": "python",
   "pygments_lexer": "ipython3",
   "version": "3.6.11"
  }
 },
 "nbformat": 4,
 "nbformat_minor": 4
}

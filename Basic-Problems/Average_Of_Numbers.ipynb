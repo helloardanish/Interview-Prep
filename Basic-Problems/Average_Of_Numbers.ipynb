{
 "cells": [
  {
   "cell_type": "markdown",
   "metadata": {},
   "source": [
    "## Calculate Average Of Numbers"
   ]
  },
  {
   "cell_type": "code",
   "execution_count": 1,
   "metadata": {},
   "outputs": [
    {
     "name": "stdout",
     "output_type": "stream",
     "text": [
      "1 2 5 8 9\n",
      "5.0\n"
     ]
    }
   ],
   "source": [
    "num = list(map(int, input().split()))\n",
    "count=0\n",
    "sum=0\n",
    "for i in num:\n",
    "    sum = sum + i\n",
    "    count = count + 1\n",
    "avg = sum/count\n",
    "print(avg)"
   ]
  },
  {
   "cell_type": "code",
   "execution_count": 2,
   "metadata": {},
   "outputs": [],
   "source": [
    "def calAvg(my_lst):\n",
    "    count=0\n",
    "    sum=0\n",
    "    for i in my_lst:\n",
    "        sum = sum + i\n",
    "        count = count + 1\n",
    "    return sum/count"
   ]
  },
  {
   "cell_type": "code",
   "execution_count": 4,
   "metadata": {},
   "outputs": [
    {
     "data": {
      "text/plain": [
       "4.0"
      ]
     },
     "execution_count": 4,
     "metadata": {},
     "output_type": "execute_result"
    }
   ],
   "source": [
    "calAvg([2,3,5,6])"
   ]
  },
  {
   "cell_type": "code",
   "execution_count": 6,
   "metadata": {},
   "outputs": [
    {
     "name": "stdout",
     "output_type": "stream",
     "text": [
      "Enter the numbers7 8 9 2 5 4 1 3 6\n"
     ]
    },
    {
     "data": {
      "text/plain": [
       "5.0"
      ]
     },
     "execution_count": 6,
     "metadata": {},
     "output_type": "execute_result"
    }
   ],
   "source": [
    "my_lst = list(map(int, input(\"Enter the numbers\").split()))\n",
    "calAvg(my_lst)"
   ]
  },
  {
   "cell_type": "markdown",
   "metadata": {},
   "source": [
    "### Average of two and three numbers"
   ]
  },
  {
   "cell_type": "code",
   "execution_count": 8,
   "metadata": {},
   "outputs": [
    {
     "name": "stdout",
     "output_type": "stream",
     "text": [
      "Enter two numbers8 6\n",
      "7.0\n",
      "Enter three numbers2 8 9\n",
      "6.333333333333333\n"
     ]
    }
   ],
   "source": [
    "a,b = map(int, input(\"Enter two numbers\").split())\n",
    "avg2num = (a+b)/2\n",
    "print(avg2num)\n",
    "a,b,c = map(int, input(\"Enter three numbers\").split())\n",
    "avg3num = (a+b+c)/3\n",
    "print(avg3num)"
   ]
  },
  {
   "cell_type": "code",
   "execution_count": 9,
   "metadata": {},
   "outputs": [
    {
     "name": "stdout",
     "output_type": "stream",
     "text": [
      "Enter three numbers2 8 9\n",
      "6.33\n"
     ]
    }
   ],
   "source": [
    "a,b,c = map(int, input(\"Enter three numbers\").split())\n",
    "avg3num = (a+b+c)/3\n",
    "print('%.2f'%avg3num)"
   ]
  },
  {
   "cell_type": "code",
   "execution_count": 10,
   "metadata": {},
   "outputs": [
    {
     "name": "stdout",
     "output_type": "stream",
     "text": [
      "6.33\n"
     ]
    }
   ],
   "source": [
    "print(round(avg3num,2))"
   ]
  },
  {
   "cell_type": "code",
   "execution_count": 11,
   "metadata": {},
   "outputs": [
    {
     "name": "stdout",
     "output_type": "stream",
     "text": [
      "6.3333\n"
     ]
    }
   ],
   "source": [
    "print(round(avg3num,4))"
   ]
  },
  {
   "cell_type": "code",
   "execution_count": 16,
   "metadata": {},
   "outputs": [
    {
     "name": "stdout",
     "output_type": "stream",
     "text": [
      "6.33\n"
     ]
    }
   ],
   "source": [
    "print(\"{0:.2f}\".format(avg3num))"
   ]
  },
  {
   "cell_type": "markdown",
   "metadata": {},
   "source": [
    "## Happy Coding\n",
    "# A R"
   ]
  }
 ],
 "metadata": {
  "kernelspec": {
   "display_name": "Python 3",
   "language": "python",
   "name": "python3"
  },
  "language_info": {
   "codemirror_mode": {
    "name": "ipython",
    "version": 3
   },
   "file_extension": ".py",
   "mimetype": "text/x-python",
   "name": "python",
   "nbconvert_exporter": "python",
   "pygments_lexer": "ipython3",
   "version": "3.6.11"
  }
 },
 "nbformat": 4,
 "nbformat_minor": 4
}

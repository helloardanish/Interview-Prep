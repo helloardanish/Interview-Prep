{
 "cells": [
  {
   "cell_type": "markdown",
   "metadata": {},
   "source": [
    "# Find all prime number in the given range"
   ]
  },
  {
   "cell_type": "markdown",
   "metadata": {},
   "source": [
    "### Let's first write program for prime number"
   ]
  },
  {
   "cell_type": "code",
   "execution_count": 1,
   "metadata": {},
   "outputs": [],
   "source": [
    "def isPrime(num):\n",
    "    if num < 2:\n",
    "        return False\n",
    "    else:\n",
    "        for i in range (2, num):\n",
    "            if num%i==0:\n",
    "                return False\n",
    "    return True"
   ]
  },
  {
   "cell_type": "code",
   "execution_count": 2,
   "metadata": {},
   "outputs": [
    {
     "data": {
      "text/plain": [
       "True"
      ]
     },
     "execution_count": 2,
     "metadata": {},
     "output_type": "execute_result"
    }
   ],
   "source": [
    "isPrime(5)"
   ]
  },
  {
   "cell_type": "code",
   "execution_count": 3,
   "metadata": {},
   "outputs": [
    {
     "data": {
      "text/plain": [
       "False"
      ]
     },
     "execution_count": 3,
     "metadata": {},
     "output_type": "execute_result"
    }
   ],
   "source": [
    "isPrime(10)"
   ]
  },
  {
   "cell_type": "code",
   "execution_count": 4,
   "metadata": {},
   "outputs": [
    {
     "data": {
      "text/plain": [
       "True"
      ]
     },
     "execution_count": 4,
     "metadata": {},
     "output_type": "execute_result"
    }
   ],
   "source": [
    "isPrime(13)"
   ]
  },
  {
   "cell_type": "markdown",
   "metadata": {},
   "source": [
    "### Let's use this function for checking all the prime number in the given range"
   ]
  },
  {
   "cell_type": "code",
   "execution_count": 10,
   "metadata": {},
   "outputs": [
    {
     "name": "stdout",
     "output_type": "stream",
     "text": [
      "Enter two integers between which you want to see prime numbers\n",
      "1\n",
      "100\n",
      "2\n",
      "3\n",
      "5\n",
      "7\n",
      "11\n",
      "13\n",
      "17\n",
      "19\n",
      "23\n",
      "29\n",
      "31\n",
      "37\n",
      "41\n",
      "43\n",
      "47\n",
      "53\n",
      "59\n",
      "61\n",
      "67\n",
      "71\n",
      "73\n",
      "79\n",
      "83\n",
      "89\n",
      "97\n"
     ]
    }
   ],
   "source": [
    "def isPrime(num):\n",
    "    if num < 2:\n",
    "        return False\n",
    "    else:\n",
    "        for i in range (2, num):\n",
    "            if num%i==0:\n",
    "                return False\n",
    "    return True\n",
    "\n",
    "print(\"Enter two integers between which you want to see prime numbers\")\n",
    "n1 = int(input())\n",
    "n2 = int(input())\n",
    "for i in range(n1,n2):\n",
    "    if isPrime(i):\n",
    "        print(i)"
   ]
  },
  {
   "cell_type": "code",
   "execution_count": 11,
   "metadata": {},
   "outputs": [
    {
     "name": "stdout",
     "output_type": "stream",
     "text": [
      "Enter two integers between which you want to see prime numbers\n",
      "15\n",
      "250\n",
      "Prime number between  15  and  250  are: \n",
      "\n",
      "17,19,23,29,31,37,41,43,47,53,59,61,67,71,73,79,83,89,97,101,103,107,109,113,127,131,137,139,149,151,157,163,167,173,179,181,191,193,197,199,211,223,227,229,233,239,241,"
     ]
    }
   ],
   "source": [
    "def isPrime2(num):\n",
    "    if num < 2:\n",
    "        return False\n",
    "    else:\n",
    "        for i in range (2, num):\n",
    "            if num%i==0:\n",
    "                return False\n",
    "    return True\n",
    "\n",
    "print(\"Enter two integers between which you want to see prime numbers\")\n",
    "n1 = int(input())\n",
    "n2 = int(input())\n",
    "print(\"Prime number between \",n1,\" and \",n2, \" are: \\n\")\n",
    "for i in range(n1,n2):\n",
    "    if isPrime(i):\n",
    "        if i==n2-1:\n",
    "            print(i)\n",
    "        else:\n",
    "            print(i, end=\",\")"
   ]
  },
  {
   "cell_type": "markdown",
   "metadata": {},
   "source": [
    "## We can improve our code. Because if any number will not be divisible greater than their half."
   ]
  },
  {
   "cell_type": "code",
   "execution_count": 12,
   "metadata": {},
   "outputs": [
    {
     "name": "stdout",
     "output_type": "stream",
     "text": [
      "Enter two integers between which you want to see prime numbers\n",
      "1\n",
      "100\n",
      "Prime number between  1  and  100  are: \n",
      "\n",
      "2,3,5,7,11,13,17,19,23,29,31,37,41,43,47,53,59,61,67,71,73,79,83,89,97,"
     ]
    }
   ],
   "source": [
    "def isPrime3(num):\n",
    "    if num < 2:\n",
    "        return False\n",
    "    else:\n",
    "        for i in range (2, num//2):\n",
    "            if num%i==0:\n",
    "                return False\n",
    "    return True\n",
    "\n",
    "print(\"Enter two integers between which you want to see prime numbers\")\n",
    "n1 = int(input())\n",
    "n2 = int(input())\n",
    "print(\"Prime number between \",n1,\" and \",n2, \" are: \\n\")\n",
    "for i in range(n1,n2):\n",
    "    if isPrime(i):\n",
    "        if i==n2-1:\n",
    "            print(i)\n",
    "        else:\n",
    "            print(i, end=\",\")"
   ]
  },
  {
   "cell_type": "markdown",
   "metadata": {},
   "source": [
    "## Thank You"
   ]
  }
 ],
 "metadata": {
  "kernelspec": {
   "display_name": "Python 3",
   "language": "python",
   "name": "python3"
  },
  "language_info": {
   "codemirror_mode": {
    "name": "ipython",
    "version": 3
   },
   "file_extension": ".py",
   "mimetype": "text/x-python",
   "name": "python",
   "nbconvert_exporter": "python",
   "pygments_lexer": "ipython3",
   "version": "3.6.11"
  }
 },
 "nbformat": 4,
 "nbformat_minor": 4
}

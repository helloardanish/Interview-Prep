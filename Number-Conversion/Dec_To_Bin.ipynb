{
 "cells": [
  {
   "cell_type": "markdown",
   "metadata": {},
   "source": [
    "## Decimal To Binary Conversion"
   ]
  },
  {
   "cell_type": "code",
   "execution_count": 1,
   "metadata": {},
   "outputs": [
    {
     "name": "stdout",
     "output_type": "stream",
     "text": [
      "Enter a number45\n",
      "0b101101\n"
     ]
    }
   ],
   "source": [
    "print(bin(int(input(\"Enter a number\"))))"
   ]
  },
  {
   "cell_type": "code",
   "execution_count": 2,
   "metadata": {},
   "outputs": [
    {
     "name": "stdout",
     "output_type": "stream",
     "text": [
      "Enter a number25\n",
      "11001\n"
     ]
    }
   ],
   "source": [
    "print(bin(int(input(\"Enter a number\")))[2:])"
   ]
  },
  {
   "cell_type": "code",
   "execution_count": 3,
   "metadata": {},
   "outputs": [
    {
     "name": "stdout",
     "output_type": "stream",
     "text": [
      "Enter a number45\n",
      "101101\n"
     ]
    }
   ],
   "source": [
    "print(bin(int(input(\"Enter a number\")))[2:])"
   ]
  },
  {
   "cell_type": "code",
   "execution_count": 4,
   "metadata": {},
   "outputs": [],
   "source": [
    "def decToBin(num):\n",
    "    print(bin(num)[2:]) # or return bin(num)[2:]"
   ]
  },
  {
   "cell_type": "code",
   "execution_count": 5,
   "metadata": {},
   "outputs": [
    {
     "name": "stdout",
     "output_type": "stream",
     "text": [
      "101101\n"
     ]
    }
   ],
   "source": [
    "decToBin(45)"
   ]
  },
  {
   "cell_type": "markdown",
   "metadata": {},
   "source": [
    "We can create our logic too"
   ]
  },
  {
   "cell_type": "code",
   "execution_count": 6,
   "metadata": {},
   "outputs": [
    {
     "name": "stdout",
     "output_type": "stream",
     "text": [
      "35\n",
      "100011\n"
     ]
    }
   ],
   "source": [
    "def decToBin2(num):\n",
    "    bin_str=\"\"\n",
    "    while(num>0):\n",
    "        bin_str = bin_str+str(num%2)\n",
    "        num= num//2\n",
    "    print(bin_str[::-1])\n",
    "decToBin2(int(input()))"
   ]
  },
  {
   "cell_type": "code",
   "execution_count": 7,
   "metadata": {},
   "outputs": [
    {
     "name": "stdout",
     "output_type": "stream",
     "text": [
      "28\n",
      "11100\n"
     ]
    }
   ],
   "source": [
    "num = int(input())\n",
    "decToBin2(num)"
   ]
  },
  {
   "cell_type": "code",
   "execution_count": 8,
   "metadata": {},
   "outputs": [
    {
     "name": "stdout",
     "output_type": "stream",
     "text": [
      "19\n",
      "10011\n"
     ]
    }
   ],
   "source": [
    "def decToBin3(num):\n",
    "    bin_str=\"\"\n",
    "    while(num>0):\n",
    "        bin_str = bin_str+str(num%2)\n",
    "        num= num//2\n",
    "    print(int(bin_str[::-1])) #convert to integer\n",
    "decToBin2(int(input()))"
   ]
  },
  {
   "cell_type": "code",
   "execution_count": 11,
   "metadata": {},
   "outputs": [],
   "source": [
    "def decToBin3(num):\n",
    "    bin_str=\"\"\n",
    "    while(num>0):\n",
    "        bin_str = bin_str+str(num%2)\n",
    "        num= num//2\n",
    "    print(reversed(bin_str))"
   ]
  },
  {
   "cell_type": "code",
   "execution_count": 13,
   "metadata": {},
   "outputs": [
    {
     "name": "stdout",
     "output_type": "stream",
     "text": [
      "100001\n"
     ]
    }
   ],
   "source": [
    "decToBin(33)"
   ]
  },
  {
   "cell_type": "markdown",
   "metadata": {},
   "source": [
    "### Using Recursion"
   ]
  },
  {
   "cell_type": "code",
   "execution_count": 14,
   "metadata": {},
   "outputs": [
    {
     "name": "stdout",
     "output_type": "stream",
     "text": [
      "100001"
     ]
    }
   ],
   "source": [
    "def DecToBinRec(num):\n",
    "    if num>1:\n",
    "        DecToBinRec(num//2)\n",
    "    print(num%2, end='')\n",
    "DecToBinRec(33)"
   ]
  },
  {
   "cell_type": "code",
   "execution_count": 15,
   "metadata": {},
   "outputs": [
    {
     "name": "stdout",
     "output_type": "stream",
     "text": [
      "1010101"
     ]
    }
   ],
   "source": [
    "DecToBinRec(85)"
   ]
  },
  {
   "cell_type": "code",
   "execution_count": 16,
   "metadata": {},
   "outputs": [
    {
     "name": "stdout",
     "output_type": "stream",
     "text": [
      "10111"
     ]
    }
   ],
   "source": [
    "DecToBinRec(23)"
   ]
  },
  {
   "cell_type": "code",
   "execution_count": 17,
   "metadata": {},
   "outputs": [
    {
     "name": "stdout",
     "output_type": "stream",
     "text": [
      "11111"
     ]
    }
   ],
   "source": [
    "DecToBinRec(31)"
   ]
  },
  {
   "cell_type": "markdown",
   "metadata": {},
   "source": [
    "## Happy Coding\n",
    "# A R"
   ]
  }
 ],
 "metadata": {
  "kernelspec": {
   "display_name": "Python 3",
   "language": "python",
   "name": "python3"
  },
  "language_info": {
   "codemirror_mode": {
    "name": "ipython",
    "version": 3
   },
   "file_extension": ".py",
   "mimetype": "text/x-python",
   "name": "python",
   "nbconvert_exporter": "python",
   "pygments_lexer": "ipython3",
   "version": "3.6.11"
  }
 },
 "nbformat": 4,
 "nbformat_minor": 4
}

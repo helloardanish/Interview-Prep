{
 "cells": [
  {
   "cell_type": "markdown",
   "metadata": {},
   "source": [
    "## Calculate HCF or GCD and LCM or LCD Of Two Number"
   ]
  },
  {
   "cell_type": "code",
   "execution_count": 4,
   "metadata": {},
   "outputs": [
    {
     "name": "stdout",
     "output_type": "stream",
     "text": [
      "20 75\n",
      "HCF OF 20 and 75 is 5\n",
      "LCM OF 20 and 75 is 300\n"
     ]
    }
   ],
   "source": [
    "a,b = map(int, input().split()) # u cn use line by line also\n",
    "if a > b:\n",
    "    x = a\n",
    "else:\n",
    "    x = b\n",
    "\n",
    "for i in range(1, x):\n",
    "    if a % i == 0 and b % i==0:\n",
    "        hcf = i\n",
    "\n",
    "print(\"HCF OF {0} and {1} is {2}\".format(a, b, hcf))\n",
    "\n",
    "for j in range(x, a * b):\n",
    "    if j % a == 0 and j % b == 0:\n",
    "        lcm = j\n",
    "        break       # stop as soon as a you find a number divisble by both\n",
    "\n",
    "print(\"LCM OF {0} and {1} is {2}\".format(a, b, lcm))"
   ]
  },
  {
   "cell_type": "markdown",
   "metadata": {},
   "source": [
    "make it functional"
   ]
  },
  {
   "cell_type": "code",
   "execution_count": 8,
   "metadata": {},
   "outputs": [
    {
     "name": "stdout",
     "output_type": "stream",
     "text": [
      "HCF OF 25 and 10 is 5.\n"
     ]
    }
   ],
   "source": [
    "def calHcf(a, b):\n",
    "    if b>a:\n",
    "        a,b = b,a\n",
    "    for i in range(1, b): # we can also check with smallest number and it will save many iteration steps\n",
    "        if a%i==0 and b%i==0:\n",
    "            hcf=i\n",
    "    print(\"HCF OF {0} and {1} is {2}.\".format(a, b, hcf)) # or return hcf\n",
    "calHcf(10, 25)"
   ]
  },
  {
   "cell_type": "code",
   "execution_count": 10,
   "metadata": {},
   "outputs": [
    {
     "name": "stdout",
     "output_type": "stream",
     "text": [
      "LCM OF 25 and 10 is 50.\n"
     ]
    }
   ],
   "source": [
    "def calLcm(a, b):\n",
    "    if b>a:\n",
    "        a,b = b,a\n",
    "    for i in range(a, a*b): #we should start with greatest number\n",
    "        if i%a==0 and i%b==0:\n",
    "            lcm=i\n",
    "            break\n",
    "    print(\"LCM OF {0} and {1} is {2}.\".format(a, b, lcm)) # or return lcm\n",
    "calLcm(10, 25)"
   ]
  },
  {
   "cell_type": "code",
   "execution_count": 11,
   "metadata": {},
   "outputs": [
    {
     "name": "stdout",
     "output_type": "stream",
     "text": [
      "HCF OF 105 and 75 is 15.\n",
      "LCM OF 105 and 75 is 525.\n"
     ]
    }
   ],
   "source": [
    "calHcf(75, 105)\n",
    "calLcm(75, 105)"
   ]
  },
  {
   "cell_type": "markdown",
   "metadata": {},
   "source": [
    "## Happy Coding\n",
    "# A R"
   ]
  }
 ],
 "metadata": {
  "kernelspec": {
   "display_name": "Python 3",
   "language": "python",
   "name": "python3"
  },
  "language_info": {
   "codemirror_mode": {
    "name": "ipython",
    "version": 3
   },
   "file_extension": ".py",
   "mimetype": "text/x-python",
   "name": "python",
   "nbconvert_exporter": "python",
   "pygments_lexer": "ipython3",
   "version": "3.6.11"
  }
 },
 "nbformat": 4,
 "nbformat_minor": 4
}
